{
 "cells": [
  {
   "cell_type": "code",
   "execution_count": 94,
   "metadata": {},
   "outputs": [
    {
     "name": "stdout",
     "output_type": "stream",
     "text": [
      "QuantumRegister(1, 'qubit')\n",
      "Qubit(QuantumRegister(1, 'qubit'), 0) QuantumRegister(1, 'qubit')\n"
     ]
    }
   ],
   "source": [
    "import numpy as np\n",
    "from qiskit import QuantumRegister, ClassicalRegister\n",
    "\n",
    "\n",
    "q = QuantumRegister(1,'qubit')\n",
    "\n",
    "\n",
    "c = ClassicalRegister(1, 'bi')\n",
    "\n",
    "print(q)\n",
    "print(q[0],q)"
   ]
  },
  {
   "cell_type": "code",
   "execution_count": 95,
   "metadata": {},
   "outputs": [
    {
     "data": {
      "text/html": [
       "<pre style=\"word-wrap: normal;white-space: pre;background: #fff0;line-height: 1.1;font-family: &quot;Courier New&quot;,Courier,monospace\">       ┌───┐┌─┐\n",
       "qubit: ┤ H ├┤M├\n",
       "       └───┘└╥┘\n",
       " bi: 1/══════╩═\n",
       "             0 </pre>"
      ],
      "text/plain": [
       "       ┌───┐┌─┐\n",
       "qubit: ┤ H ├┤M├\n",
       "       └───┘└╥┘\n",
       " bi: 1/══════╩═\n",
       "             0 "
      ]
     },
     "execution_count": 95,
     "metadata": {},
     "output_type": "execute_result"
    }
   ],
   "source": [
    "from qiskit import QuantumCircuit\n",
    "circuit = QuantumCircuit(q, c)\n",
    "\n",
    "circuit.h(q)\n",
    "circuit.measure(q, c)\n",
    "circuit.draw()\n",
    "\n"
   ]
  },
  {
   "cell_type": "code",
   "execution_count": 96,
   "metadata": {},
   "outputs": [],
   "source": [
    "from qiskit import Aer, execute\n",
    "\n",
    "backend = Aer.get_backend('statevector_simulator')\n",
    "job = execute(circuit, backend)\n",
    "res = job.result()\n",
    "psi = res.get_statevector()"
   ]
  },
  {
   "cell_type": "code",
   "execution_count": 97,
   "metadata": {},
   "outputs": [],
   "source": [
    "backend = Aer.get_backend('qasm_simulator')\n",
    "job = execute(circuit, backend,shots = 100)\n",
    "res = job.result()\n",
    "prob = res.get_counts(circuit)"
   ]
  },
  {
   "cell_type": "code",
   "execution_count": 152,
   "metadata": {},
   "outputs": [
    {
     "name": "stdout",
     "output_type": "stream",
     "text": [
      "{'00': 100}\n"
     ]
    }
   ],
   "source": [
    "from qiskit.circuit.library import XGate, IGate\n",
    "from qiskit.extensions import UnitaryGate\n",
    "\n",
    "import scipy\n",
    "import numpy as np\n",
    "print(prob)"
   ]
  },
  {
   "attachments": {},
   "cell_type": "markdown",
   "metadata": {},
   "source": [
    "## 2 ex\n"
   ]
  },
  {
   "cell_type": "code",
   "execution_count": 205,
   "metadata": {},
   "outputs": [],
   "source": [
    "\n",
    "def get_gate(D,Q,typer:int):\n",
    "    if typer == 0:\n",
    "        return UnitaryGate(np.kron(D, D))\n",
    "    elif typer == 1:\n",
    "        return UnitaryGate(np.kron(Q, D))\n",
    "    elif typer == 2:\n",
    "        return UnitaryGate(np.kron(D, Q))\n",
    "    elif typer == 3:\n",
    "        return UnitaryGate(np.kron(Q,Q))\n",
    "\n",
    "gamma = np.linspace(0,np.pi/2,101)\n",
    "\n",
    "\n",
    "\n",
    "results = {'00':0,'01':0,'10':0,'11':0}\n",
    "weights = {'00':3,'01':0,'10':5,'11':1}\n",
    "lst = []\n",
    "for j in range(4):\n",
    "    for g in gamma:\n",
    "        #results = {'00':0,'01':0,'10':0,'11':0}\n",
    "        payoff = 0\n",
    "        D = np.array([[0, 1], [-1, 0]])\n",
    "        Q = np.array([[1j, 0], [0, -1j]])\n",
    "\n",
    "\n",
    "        J = scipy.linalg.expm(-1.0j * g * np.kron(D, D) / 2)\n",
    "\n",
    "        gate = UnitaryGate(J)\n",
    "        gate2 = UnitaryGate(np.conjugate(J).T)\n",
    "\n",
    "\n",
    "        q = QuantumRegister(2, \"qubit\")\n",
    "        c = ClassicalRegister(2, \"bi\")\n",
    "        circuit = QuantumCircuit(q, c)\n",
    "\n",
    "        circuit.append(gate, q)\n",
    "        gate_3 = get_gate(D,Q,j)\n",
    "        circuit.append(gate_3,q)\n",
    "        #what here?!?!?!?\n",
    "\n",
    "        circuit.append(gate2, q)\n",
    "        circuit.measure(q, c)\n",
    "\n",
    "\n",
    "        backend = Aer.get_backend(\"qasm_simulator\")\n",
    "        job = execute(circuit, backend, shots=1000)\n",
    "        res = job.result()\n",
    "        prob = res.get_counts(circuit)\n",
    "    \n",
    "        for key in prob.keys():\n",
    "            payoff += prob[key] * weights[key]\n",
    "\n",
    "        lst.append(payoff)"
   ]
  },
  {
   "cell_type": "code",
   "execution_count": 170,
   "metadata": {},
   "outputs": [
    {
     "data": {
      "text/html": [
       "<pre style=\"word-wrap: normal;white-space: pre;background: #fff0;line-height: 1.1;font-family: &quot;Courier New&quot;,Courier,monospace\">         ┌──────────┐┌──────────┐┌──────────┐┌─┐   \n",
       "qubit_0: ┤0         ├┤0         ├┤0         ├┤M├───\n",
       "         │  Unitary ││  Unitary ││  Unitary │└╥┘┌─┐\n",
       "qubit_1: ┤1         ├┤1         ├┤1         ├─╫─┤M├\n",
       "         └──────────┘└──────────┘└──────────┘ ║ └╥┘\n",
       "   bi: 2/═════════════════════════════════════╩══╩═\n",
       "                                              0  1 </pre>"
      ],
      "text/plain": [
       "         ┌──────────┐┌──────────┐┌──────────┐┌─┐   \n",
       "qubit_0: ┤0         ├┤0         ├┤0         ├┤M├───\n",
       "         │  Unitary ││  Unitary ││  Unitary │└╥┘┌─┐\n",
       "qubit_1: ┤1         ├┤1         ├┤1         ├─╫─┤M├\n",
       "         └──────────┘└──────────┘└──────────┘ ║ └╥┘\n",
       "   bi: 2/═════════════════════════════════════╩══╩═\n",
       "                                              0  1 "
      ]
     },
     "execution_count": 170,
     "metadata": {},
     "output_type": "execute_result"
    }
   ],
   "source": [
    "circuit.draw()"
   ]
  },
  {
   "cell_type": "code",
   "execution_count": 176,
   "metadata": {},
   "outputs": [],
   "source": [
    "\n",
    "from matplotlib import pyplot as plt"
   ]
  },
  {
   "cell_type": "code",
   "execution_count": 206,
   "metadata": {},
   "outputs": [
    {
     "data": {
      "image/png": "[encoded data removed]",
      "text/plain": [
       "<Figure size 640x480 with 1 Axes>"
      ]
     },
     "metadata": {},
     "output_type": "display_data"
    }
   ],
   "source": [
    "results = np.array(lst)\n",
    "\n",
    "tmp = len(lst)//4\n",
    "res_1 = results[0:tmp]\n",
    "res_2 = results[tmp:2*tmp]\n",
    "res_3 = results[2*tmp:3*tmp]\n",
    "res_4 = results[3*tmp:4*tmp]\n",
    "\n",
    "\n",
    "\n",
    "plt.plot(gamma,res_1,label=\"DD\")\n",
    "plt.plot(gamma,res_2,label=\"QD\")\n",
    "plt.plot(gamma,res_3,label=\"DQ\")\n",
    "plt.plot(gamma,res_4,label=\"QQ\")\n",
    "plt.legend()\n",
    "\n",
    "plt.show()"
   ]
  },
  {
   "cell_type": "code",
   "execution_count": null,
   "metadata": {},
   "outputs": [],
   "source": []
  }
 ],
 "metadata": {
  "kernelspec": {
   "display_name": "cmpp",
   "language": "python",
   "name": "python3"
  },
  "language_info": {
   "codemirror_mode": {
    "name": "ipython",
    "version": 3
   },
   "file_extension": ".py",
   "mimetype": "text/x-python",
   "name": "python",
   "nbconvert_exporter": "python",
   "pygments_lexer": "ipython3",
   "version": "3.10.9"
  },
  "orig_nbformat": 4
 },
 "nbformat": 4,
 "nbformat_minor": 2
}
